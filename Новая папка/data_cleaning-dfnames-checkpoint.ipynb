{
 "cells": [
  {
   "cell_type": "code",
   "execution_count": null,
   "id": "2c10f906",
   "metadata": {},
   "outputs": [],
   "source": [
    "import pandas as pd"
   ]
  },
  {
   "cell_type": "code",
   "execution_count": null,
   "id": "bd94287e-3f0a-4fe6-b1d2-45a2eb634100",
   "metadata": {},
   "outputs": [],
   "source": [
    "df2 = pd.read_csv(r\"C:\\Users\\zaiid\\OneDrive\\Desktop\\archive_3\\linkedin-jobs-usa.csv\")\n",
    "df2"
   ]
  },
  {
   "cell_type": "code",
   "execution_count": null,
   "id": "a279ddc2-0cf0-421f-a458-3a5485db68b3",
   "metadata": {},
   "outputs": [],
   "source": [
    "df2.salary"
   ]
  },
  {
   "cell_type": "code",
   "execution_count": null,
   "id": "53a4ee05-c643-458d-a630-ff2ba6b95fb8",
   "metadata": {},
   "outputs": [],
   "source": [
    "salary_values = df2['salary'].str.split('-', expand=True)\n",
    "lower_salary = salary_values[0].str.replace('[^\\d.]', '', regex=True).astype(float)\n",
    "upper_salary = salary_values[1].str.replace('[^\\d.]', '', regex=True).astype(float)\n",
    "average = (upper_salary + lower_salary)/2\n",
    "df2['salary'] = average.round()\n",
    "df2"
   ]
  },
  {
   "cell_type": "code",
   "execution_count": null,
   "id": "91618daf-367a-40e0-abbf-438c1637b6a5",
   "metadata": {},
   "outputs": [],
   "source": [
    "df2.salary.value_counts()"
   ]
  },
  {
   "cell_type": "code",
   "execution_count": null,
   "id": "0a911605-4118-4879-9715-9b51ce2b0c08",
   "metadata": {},
   "outputs": [],
   "source": [
    "dict_salary ={55.0 : 55000.0,\n",
    "              70.0 : 70000.0,\n",
    "              50.0 : 50000.0,\n",
    "              32.0 : 32000.0,\n",
    "              60.0 : 60000.0,\n",
    "              30.0 : 30000.0,\n",
    "              23.0 : 45000.0,\n",
    "              45.0 : 45000.0,\n",
    "              42.0 : 42000.0,\n",
    "              5900.0 : 59000.0,\n",
    "              29.0 : 29000.0,\n",
    "              35.0 : 35000.0,\n",
    "              36.0 :36000.0,\n",
    "              40.0 :40000.0,\n",
    "              69.0 :69000.0\n",
    "              }\n",
    "df2.salary = df2.salary.replace(dict_salary)"
   ]
  },
  {
   "cell_type": "code",
   "execution_count": null,
   "id": "66317b6a-78d0-45e6-bfb5-91c96ce8497d",
   "metadata": {},
   "outputs": [],
   "source": [
    "df2.salary.mean()"
   ]
  },
  {
   "cell_type": "code",
   "execution_count": null,
   "id": "1c0076a8-fec8-433d-accf-765411fce2f0",
   "metadata": {},
   "outputs": [],
   "source": [
    "df2.title.fillna(\"Junior Data Analyst\", inplace = True)"
   ]
  },
  {
   "cell_type": "code",
   "execution_count": null,
   "id": "c7e60763-6be2-4867-bab3-9d2d7080990c",
   "metadata": {},
   "outputs": [],
   "source": [
    "df2.isnull().any()"
   ]
  },
  {
   "cell_type": "code",
   "execution_count": null,
   "id": "a6459ab0-5962-4d2b-ae67-741c3362c217",
   "metadata": {},
   "outputs": [],
   "source": [
    "df2.title.value_counts()"
   ]
  },
  {
   "cell_type": "code",
   "execution_count": null,
   "id": "fa082b50-c467-47f7-8e4c-bee7551ba03c",
   "metadata": {},
   "outputs": [],
   "source": [
    "# Dictionary to map similar job titles to a standardized title\n",
    "#title_mapping = {\n",
    " #   \"Analyst (Global Data and Analytics)\": \"Global Data and Analytics Analyst\",\n",
    "  #  \"Analyst - Data Visualization\": \"Data Visualization Analyst\",\n",
    "  #  \"Analyst, Data and Analytics\": \"Data and Analytics Analyst\",\n",
    "   # \"Associate Data Analyst\": \"Associate Data Analyst\",\n",
    "    #\"Business Data Analyst\": \"Business Data Analyst\",\n",
    " #   \"Consultant/Data Analyst\": \"Consultant/Data Analyst\",\n",
    " #   \"Data Analyst\": \"Data Analyst\",\n",
    " #   \"Data Analyst (Global Remote)\": \"Global Remote Data Analyst\",\n",
    " #   \"Data Analyst (Hybrid)\": \"Hybrid Data Analyst\",\n",
    " #   \"Data Analyst (Remote)\": \"Remote Data Analyst\",\n",
    " #   \"Data Analyst (SQL)\": \"SQL Data Analyst\",\n",
    "   # \"Data Analyst (SQL, Teraform, Tableau) III - Remote\": \"Remote SQL Data Analyst\",\n",
    "    #\"Data Analyst - (Remote - US)\": \"Remote US Data Analyst\",\n",
    "  #  \"Data Analyst - Energy\": \"Energy Data Analyst\",\n",
    "   # \"Data Analyst - Recent Graduate\": \"Recent Graduate Data Analyst\",\n",
    "  #  \"Data Analyst - Remote\": \"Remote Data Analyst\",\n",
    "  #  \"Data Analyst - Weekly Hybrid Remote/Onsite Schedule\": \"Weekly Hybrid Remote/Onsite Data Analyst\",\n",
    "  #  \"Data Analyst - remote!\": \"Remote Data Analyst\",\n",
    "  #  \"Data Analyst I\": \"Data Analyst I\",\n",
    "  #  \"Data Analyst I (entry level)\": \"Entry Level Data Analyst\",\n",
    "  #  \"Data Analyst III - Remote\": \"Remote Data Analyst III\",\n",
    "  #  \"Data Analyst, Money\": \"Money Data Analyst\",\n",
    "  #  \"Data Analyst/ $100M Valuation/ Hybrid\": \"Hybrid Data Analyst\",\n",
    "  #  \"Data Analyst/Collector\": \"Collector Data Analyst\",\n",
    "  #  \"Data Analytics Analyst\": \"Data Analytics Analyst\",\n",
    "  #  \"Data Visualization Analyst\": \"Data Visualization Analyst\",\n",
    "  #  \"Data analyst\": \"Data Analyst\",\n",
    "  #  \"Entry Level Data Analyst\": \"Entry Level Data Analyst\",\n",
    "   # \"Entry-Level Data Analyst\": \"Entry Level Data Analyst\",\n",
    "    #\"Group Data Analyst\": \"Group Data Analyst\",\n",
    "    #\"Junior Data Analyst\": \"Junior Data Analyst\",\n",
    "  #  \"Junior Data Analyst-Entry Level\": \"Junior Data Analyst\",\n",
    "  #  \"Marketing Data Analyst\": \"Marketing Data Analyst\",\n",
    "  #  \"REMOTE Data Analyst (SQL, Operations)\": \"Remote SQL Data Analyst\",\n",
    "   # \"SQL Data Analyst\": \"SQL Data Analyst\",\n",
    "   # \"Senior Data Analyst\": \"Senior Data Analyst\"\n",
    "#}\n",
    "\n",
    "# Update DataFrame with standardized job titles\n",
    "#df2['title'] = df2['title'].map(title_mapping)\n",
    "# Dictionary to map similar job titles to a standardized title\n",
    "title_mapping = {\n",
    "    \"Data Visualization\": \"Data Visualization\",\n",
    "    \"Junior\": \"Junior Data Analyst\",\n",
    "    \"Data and Analytics\": \"Data and Analytics\",\n",
    "    \"Associate Data Analyst\": \"Associate Data Analyst\",\n",
    "    \"Business Data Analyst\": \"Business Data Analyst\",\n",
    "    \"Consultant\": \"Consultant\",\n",
    "    \"Global Remote\": \"Remote Data Analyst\",\n",
    "    \"Hybrid\": \"Hybrid Data Analyst\",\n",
    "    \"Remote\": \"Remote Data Analyst\",\n",
    "    \"SQL\": \"SQL Data Analyst\",\n",
    "    \"Energy\": \"Energy Data Analyst\",\n",
    "    \"Recent Graduate\": \"Recent Graduate Data Analyst\",\n",
    "    \"Weekly Hybrid Remote/Onsite Schedule\": \"Hybrid Data Analyst\",\n",
    "    \"Collector\": \"Collector Data Analyst\",\n",
    "    \"Data Analytics\": \"Data Analytics Analyst\",\n",
    "    \"Marketing\": \"Marketing Data Analyst\",\n",
    "    \"SQL, Operations\": \"SQL Data Analyst\",\n",
    "    \"Senior\": \"Senior Data Analyst\",\n",
    "    \"Entry Level\": \"Entry Level Data Analyst\",\n",
    "    \"Data Analyst\": \"Data Analyst\"\n",
    "}\n",
    "\n",
    "# Update DataFrame with standardized job titles\n",
    "def map_job_title(title):\n",
    "    for key, value in title_mapping.items():\n",
    "        if key.lower() in title.lower():\n",
    "            return value\n",
    "    return title\n",
    "\n",
    "\n",
    "updated_title = df2[\"title\"].apply(map_job_title)\n",
    "df2[\"title\"] = updated_title\n",
    "df2"
   ]
  },
  {
   "cell_type": "code",
   "execution_count": null,
   "id": "a790bffe-2564-4009-b7a3-047230abb2d2",
   "metadata": {},
   "outputs": [],
   "source": [
    "df2.location.value_counts().head(40)"
   ]
  },
  {
   "cell_type": "code",
   "execution_count": null,
   "id": "80a1d95f-4208-484e-8de4-983c4518f154",
   "metadata": {},
   "outputs": [],
   "source": [
    "average_salary_by_title = df2.groupby(\"title\")['salary'].mean()\n",
    "#df2['salary'] = df2.apply(lambda row: average_salary_by_title[row['title']] if pd.isna(row['salary']) else row['salary'], axis=1)\n",
    "average_salary_by_title\n"
   ]
  },
  {
   "cell_type": "code",
   "execution_count": null,
   "id": "f0d9c441-7115-48e2-97c4-db60a03a4911",
   "metadata": {},
   "outputs": [],
   "source": [
    "\n",
    "state_mapping_full = {\n",
    "    \"United States\": \"United States\",\n",
    "    \"New York City Metropolitan Area\": \"New York\",\n",
    "    \"Chicago, IL\": \"Illinois\",\n",
    "    \"New York, NY\": \"New York\",\n",
    "    \"Austin, TX\": \"Texas\",\n",
    "    \"Texas, United States\": \"Texas\",\n",
    "    \"Timonium, MD\": \"Maryland\",\n",
    "    \"Dallas, TX\": \"Texas\",\n",
    "    \"Boston, MA\": \"Massachusetts\",\n",
    "    \"Charlotte, NC\": \"North Carolina\",\n",
    "    \"Miami, FL\": \"Florida\",\n",
    "    \"New York, United States\": \"New York\",\n",
    "    \"Franklin, TN\": \"Tennessee\",\n",
    "    \"Tempe, AZ\": \"Arizona\",\n",
    "    \"Illinois, United States\": \"Illinois\",\n",
    "    \"Greensboro--Winston-Salem--High Point Area\": \"North Carolina\",\n",
    "    \"Greater Scranton Area\": \"Pennsylvania\",\n",
    "    \"Tennessee, United States\": \"Tennessee\",\n",
    "    \"Indiana, United States\": \"Indiana\",\n",
    "    \"Denver Metropolitan Area\": \"Colorado\",\n",
    "    \"District of Columbia, United States\": \"District of Columbia\",\n",
    "    \"Conshohocken, PA\": \"Pennsylvania\",\n",
    "    \"Phoenix, AZ\": \"Arizona\",\n",
    "    \"North Carolina, United States\": \"North Carolina\",\n",
    "    \"Greater Sacramento\": \"California\",\n",
    "    \"Richfield, MN\": \"Minnesota\",\n",
    "    \"Morgan Hill, CA\": \"California\",\n",
    "    \"Cincinnati Metropolitan Area\": \"Ohio\",\n",
    "    \"Hartford, CT\": \"Connecticut\",\n",
    "    \"Atlanta Metropolitan Area\": \"Georgia\",\n",
    "    \"Quincy, MA\": \"Massachusetts\",\n",
    "    \"Buffalo-Niagara Falls Area\": \"New York\",\n",
    "    \"San Francisco, CA\": \"California\",\n",
    "    \"Irvine, CA\": \"California\",\n",
    "    \"Houston, TX\": \"Texas\",\n",
    "    \"Omaha, NE\": \"Nebraska\",\n",
    "    \"San Jose, CA\": \"California\",\n",
    "    \"Scottsdale, AZ\": \"Arizona\",\n",
    "    \"San Francisco Bay Area\": \"California\",\n",
    "    \"Manassas, VA\": \"Virginia\"\n",
    "}\n",
    "\n",
    "\n",
    "df2['location'] = df2['location'].map(state_mapping_full)\n",
    "\n"
   ]
  },
  {
   "cell_type": "code",
   "execution_count": null,
   "id": "ce5908d8-12fd-4f2d-80a0-279f8153164d",
   "metadata": {},
   "outputs": [],
   "source": [
    "df2.location.value_counts()"
   ]
  },
  {
   "cell_type": "code",
   "execution_count": null,
   "id": "9bb28045-d6cf-4cbd-bf78-b551912f1129",
   "metadata": {},
   "outputs": [],
   "source": [
    "state_counts = df2[\"location\"].value_counts()\n",
    "total_count = state_counts.sum() - state_counts[\"United States\"]\n",
    "ratios = state_counts / total_count\n",
    "replacements = (df2[\"location\"].value_counts()[\"United States\"] * ratios).round().astype(int)\n",
    "print(replacements)\n",
    "for i, location in enumerate(df2[\"location\"]):\n",
    "    if location == \"United States\":\n",
    "        for key, value in replacements.items():\n",
    "            if value > 0 and key != \"United States\":\n",
    "                df2.at[i, \"location\"] = key\n",
    "                replacements[key] -= 1\n",
    "                break"
   ]
  },
  {
   "cell_type": "code",
   "execution_count": null,
   "id": "abeb8334-e4f3-44bf-bcea-8f1dedfc25da",
   "metadata": {},
   "outputs": [],
   "source": [
    "df2.location.value_counts()"
   ]
  },
  {
   "cell_type": "code",
   "execution_count": null,
   "id": "e1c9b3b2-1c76-4081-b2d2-57f6a5d2cb74",
   "metadata": {},
   "outputs": [],
   "source": [
    "df2"
   ]
  },
  {
   "cell_type": "code",
   "execution_count": null,
   "id": "ecca2ab4-6324-4b60-8e1b-7481b1539a67",
   "metadata": {},
   "outputs": [],
   "source": [
    "df2.groupby(\"location\")[\"salary\"].mean()"
   ]
  },
  {
   "cell_type": "code",
   "execution_count": null,
   "id": "688b143c-0dee-405c-8a2f-d4c28d6101e8",
   "metadata": {},
   "outputs": [],
   "source": [
    "df2.location.value_counts()"
   ]
  },
  {
   "cell_type": "code",
   "execution_count": null,
   "id": "37be436e-f417-4f6e-a148-66376be7f525",
   "metadata": {},
   "outputs": [],
   "source": [
    "data = {\n",
    "    \"location\": [\"Arizona\", \"California\", \"Colorado\", \"Connecticut\", \"District of Columbia\",\n",
    "                 \"Florida\", \"Georgia\", \"Illinois\", \"Indiana\", \"Maryland\", \"Massachusetts\",\n",
    "                 \"Minnesota\", \"Nebraska\", \"New York\", \"North Carolina\", \"Ohio\", \n",
    "                 \"Pennsylvania\", \"Tennessee\", \"Texas\"],\n",
    "    \"salary\": [81431.818182, 70408.450704, 40411.111111, 89375.000000, 117546.511628,\n",
    "               86250.000000, 81888.888889, 86000.000000, 103750.000000, 86363.636364,\n",
    "               82700.000000, 50583.333333, 95000.000000, 72483.673469, 69901.639344,\n",
    "               71000.000000, 86603.829787, 102305.555556, 83276.595745],\n",
    "    \"count\": [135, 251, 49, 47, 49, 54, 46, 258, 50, 82, 119, 47, 41, 475, 153, 47, 97, 101, 302]\n",
    "}\n",
    "\n",
    "result_df = pd.DataFrame(data)\n",
    "result_df"
   ]
  },
  {
   "cell_type": "code",
   "execution_count": null,
   "id": "490aff9f-41f3-4aba-ad9b-fa1902b1ae30",
   "metadata": {},
   "outputs": [],
   "source": []
  }
 ],
 "metadata": {
  "kernelspec": {
   "display_name": "Python 3 (ipykernel)",
   "language": "python",
   "name": "python3"
  },
  "language_info": {
   "codemirror_mode": {
    "name": "ipython",
    "version": 3
   },
   "file_extension": ".py",
   "mimetype": "text/x-python",
   "name": "python",
   "nbconvert_exporter": "python",
   "pygments_lexer": "ipython3",
   "version": "3.11.5"
  }
 },
 "nbformat": 4,
 "nbformat_minor": 5
}
